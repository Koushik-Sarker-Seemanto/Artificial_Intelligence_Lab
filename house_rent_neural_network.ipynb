{
  "nbformat": 4,
  "nbformat_minor": 0,
  "metadata": {
    "colab": {
      "name": "house_rent_neural_network.ipynb",
      "provenance": [],
      "collapsed_sections": []
    },
    "kernelspec": {
      "name": "python3",
      "display_name": "Python 3"
    }
  },
  "cells": [
    {
      "cell_type": "code",
      "metadata": {
        "id": "Iqq_hMtRI2hp"
      },
      "source": [
        "import pandas as pd\r\n",
        "import numpy as np\r\n",
        "import matplotlib.pyplot as plt\r\n",
        "import seaborn as sns\r\n",
        "\r\n",
        "from sklearn.ensemble import ExtraTreesRegressor\r\n",
        "from sklearn.model_selection import train_test_split\r\n",
        "from sklearn import metrics\r\n",
        "from sklearn.metrics import r2_score\r\n",
        "from sklearn.neural_network import MLPRegressor\r\n",
        "from sklearn.feature_selection import SelectKBest,mutual_info_regression\r\n",
        "from sklearn.model_selection import cross_val_score\r\n",
        "from sklearn import metrics\r\n",
        "from sklearn import preprocessing\r\n",
        "\r\n",
        "import keras\r\n",
        "from keras.models import Sequential\r\n",
        "from keras.layers import Dense\r\n",
        "from keras.layers import LeakyReLU,PReLU,ELU\r\n",
        "from keras.layers import Dropout\r\n",
        "from google.colab import files"
      ],
      "execution_count": 1,
      "outputs": []
    },
    {
      "cell_type": "code",
      "metadata": {
        "colab": {
          "resources": {
            "http://localhost:8080/nbextensions/google.colab/files.js": {
              "data": "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",
              "ok": true,
              "headers": [
                [
                  "content-type",
                  "application/javascript"
                ]
              ],
              "status": 200,
              "status_text": ""
            }
          },
          "base_uri": "https://localhost:8080/",
          "height": 251
        },
        "id": "LFQN6gXXJIKr",
        "outputId": "d4a772a7-2885-4ecf-f01d-f006e3b41eb4"
      },
      "source": [
        "uploaded = files.upload()\r\n",
        "dataset = pd.read_csv(\"./housing_dataset.csv\")\r\n",
        "dataset.head()"
      ],
      "execution_count": 2,
      "outputs": [
        {
          "output_type": "display_data",
          "data": {
            "text/html": [
              "\n",
              "     <input type=\"file\" id=\"files-ed6103ac-ec32-4572-b3e8-c08d496af22a\" name=\"files[]\" multiple disabled\n",
              "        style=\"border:none\" />\n",
              "     <output id=\"result-ed6103ac-ec32-4572-b3e8-c08d496af22a\">\n",
              "      Upload widget is only available when the cell has been executed in the\n",
              "      current browser session. Please rerun this cell to enable.\n",
              "      </output>\n",
              "      <script src=\"/nbextensions/google.colab/files.js\"></script> "
            ],
            "text/plain": [
              "<IPython.core.display.HTML object>"
            ]
          },
          "metadata": {
            "tags": []
          }
        },
        {
          "output_type": "stream",
          "text": [
            "Saving housing_dataset.csv to housing_dataset (1).csv\n"
          ],
          "name": "stdout"
        },
        {
          "output_type": "execute_result",
          "data": {
            "text/html": [
              "<div>\n",
              "<style scoped>\n",
              "    .dataframe tbody tr th:only-of-type {\n",
              "        vertical-align: middle;\n",
              "    }\n",
              "\n",
              "    .dataframe tbody tr th {\n",
              "        vertical-align: top;\n",
              "    }\n",
              "\n",
              "    .dataframe thead th {\n",
              "        text-align: right;\n",
              "    }\n",
              "</style>\n",
              "<table border=\"1\" class=\"dataframe\">\n",
              "  <thead>\n",
              "    <tr style=\"text-align: right;\">\n",
              "      <th></th>\n",
              "      <th>Avg. Area Income</th>\n",
              "      <th>Avg. Area House Age</th>\n",
              "      <th>Avg. Area Number of Rooms</th>\n",
              "      <th>Avg. Area Number of Bedrooms</th>\n",
              "      <th>Area Population</th>\n",
              "      <th>Price</th>\n",
              "      <th>Address</th>\n",
              "    </tr>\n",
              "  </thead>\n",
              "  <tbody>\n",
              "    <tr>\n",
              "      <th>0</th>\n",
              "      <td>79545.458574</td>\n",
              "      <td>5.682861</td>\n",
              "      <td>7.009188</td>\n",
              "      <td>4.09</td>\n",
              "      <td>23086.800503</td>\n",
              "      <td>1.059034e+06</td>\n",
              "      <td>208 Michael Ferry Apt. 674\\r\\nLaurabury, NE 37...</td>\n",
              "    </tr>\n",
              "    <tr>\n",
              "      <th>1</th>\n",
              "      <td>79248.642455</td>\n",
              "      <td>6.002900</td>\n",
              "      <td>6.730821</td>\n",
              "      <td>3.09</td>\n",
              "      <td>40173.072174</td>\n",
              "      <td>1.505891e+06</td>\n",
              "      <td>188 Johnson Views Suite 079\\r\\nLake Kathleen, ...</td>\n",
              "    </tr>\n",
              "    <tr>\n",
              "      <th>2</th>\n",
              "      <td>61287.067179</td>\n",
              "      <td>5.865890</td>\n",
              "      <td>8.512727</td>\n",
              "      <td>5.13</td>\n",
              "      <td>36882.159400</td>\n",
              "      <td>1.058988e+06</td>\n",
              "      <td>9127 Elizabeth Stravenue\\r\\nDanieltown, WI 064...</td>\n",
              "    </tr>\n",
              "    <tr>\n",
              "      <th>3</th>\n",
              "      <td>63345.240046</td>\n",
              "      <td>7.188236</td>\n",
              "      <td>5.586729</td>\n",
              "      <td>3.26</td>\n",
              "      <td>34310.242831</td>\n",
              "      <td>1.260617e+06</td>\n",
              "      <td>USS Barnett\\r\\nFPO AP 44820</td>\n",
              "    </tr>\n",
              "    <tr>\n",
              "      <th>4</th>\n",
              "      <td>59982.197226</td>\n",
              "      <td>5.040555</td>\n",
              "      <td>7.839388</td>\n",
              "      <td>4.23</td>\n",
              "      <td>26354.109472</td>\n",
              "      <td>6.309435e+05</td>\n",
              "      <td>USNS Raymond\\r\\nFPO AE 09386</td>\n",
              "    </tr>\n",
              "  </tbody>\n",
              "</table>\n",
              "</div>"
            ],
            "text/plain": [
              "   Avg. Area Income  ...                                            Address\n",
              "0      79545.458574  ...  208 Michael Ferry Apt. 674\\r\\nLaurabury, NE 37...\n",
              "1      79248.642455  ...  188 Johnson Views Suite 079\\r\\nLake Kathleen, ...\n",
              "2      61287.067179  ...  9127 Elizabeth Stravenue\\r\\nDanieltown, WI 064...\n",
              "3      63345.240046  ...                        USS Barnett\\r\\nFPO AP 44820\n",
              "4      59982.197226  ...                       USNS Raymond\\r\\nFPO AE 09386\n",
              "\n",
              "[5 rows x 7 columns]"
            ]
          },
          "metadata": {
            "tags": []
          },
          "execution_count": 2
        }
      ]
    },
    {
      "cell_type": "code",
      "metadata": {
        "colab": {
          "base_uri": "https://localhost:8080/"
        },
        "id": "RMyywcRdeff4",
        "outputId": "bdd6494e-981d-4fa8-bb3a-daab4a0bbec8"
      },
      "source": [
        "dataset.columns"
      ],
      "execution_count": 3,
      "outputs": [
        {
          "output_type": "execute_result",
          "data": {
            "text/plain": [
              "Index(['Avg. Area Income', 'Avg. Area House Age', 'Avg. Area Number of Rooms',\n",
              "       'Avg. Area Number of Bedrooms', 'Area Population', 'Price', 'Address'],\n",
              "      dtype='object')"
            ]
          },
          "metadata": {
            "tags": []
          },
          "execution_count": 3
        }
      ]
    },
    {
      "cell_type": "code",
      "metadata": {
        "id": "SMJ0JELWJcCt"
      },
      "source": [
        "X = dataset[['Avg. Area Income', 'Avg. Area House Age', 'Avg. Area Number of Rooms',\r\n",
        "               'Avg. Area Number of Bedrooms', 'Area Population']]\r\n",
        "y = dataset['Price']"
      ],
      "execution_count": 4,
      "outputs": []
    },
    {
      "cell_type": "code",
      "metadata": {
        "id": "NhRlLge9Jhor"
      },
      "source": [
        "X_train, X_test, y_train, y_test = train_test_split(X, y, test_size = 0.40,random_state=21)"
      ],
      "execution_count": 5,
      "outputs": []
    },
    {
      "cell_type": "code",
      "metadata": {
        "colab": {
          "base_uri": "https://localhost:8080/"
        },
        "id": "0yg-Hk6cJpb4",
        "outputId": "7cf7f86a-b672-4290-bd13-6b879d6fdd48"
      },
      "source": [
        "model = Sequential()\r\n",
        "model.add(Dense(128, kernel_initializer='normal',input_dim = X_train.shape[1], activation='relu'))\r\n",
        "\r\n",
        "model.add(Dense(256, kernel_initializer='normal',activation='relu'))\r\n",
        "model.add(Dense(256, kernel_initializer='normal',activation='relu'))\r\n",
        "model.add(Dense(256, kernel_initializer='normal',activation='relu'))\r\n",
        "model.add(Dense(256, kernel_initializer='normal',activation='relu'))\r\n",
        "model.add(Dense(256, kernel_initializer='normal',activation='relu'))\r\n",
        "model.compile(optimizer='adam', loss='mean_squared_error')\r\n",
        "model.summary()\r\n",
        "\r\n",
        "model.fit(X_train, y_train,validation_split=0.30, batch_size = 10, epochs = 100)"
      ],
      "execution_count": 6,
      "outputs": [
        {
          "output_type": "stream",
          "text": [
            "Model: \"sequential\"\n",
            "_________________________________________________________________\n",
            "Layer (type)                 Output Shape              Param #   \n",
            "=================================================================\n",
            "dense (Dense)                (None, 128)               768       \n",
            "_________________________________________________________________\n",
            "dense_1 (Dense)              (None, 256)               33024     \n",
            "_________________________________________________________________\n",
            "dense_2 (Dense)              (None, 256)               65792     \n",
            "_________________________________________________________________\n",
            "dense_3 (Dense)              (None, 256)               65792     \n",
            "_________________________________________________________________\n",
            "dense_4 (Dense)              (None, 256)               65792     \n",
            "_________________________________________________________________\n",
            "dense_5 (Dense)              (None, 256)               65792     \n",
            "=================================================================\n",
            "Total params: 296,960\n",
            "Trainable params: 296,960\n",
            "Non-trainable params: 0\n",
            "_________________________________________________________________\n",
            "Epoch 1/100\n",
            "210/210 [==============================] - 2s 7ms/step - loss: 936408160479.2417 - val_loss: 556582240256.0000\n",
            "Epoch 2/100\n",
            "210/210 [==============================] - 1s 5ms/step - loss: 585648354192.3792 - val_loss: 567650418688.0000\n",
            "Epoch 3/100\n",
            "210/210 [==============================] - 1s 5ms/step - loss: 580717165893.1564 - val_loss: 575301419008.0000\n",
            "Epoch 4/100\n",
            "210/210 [==============================] - 1s 5ms/step - loss: 564562116064.4550 - val_loss: 557018120192.0000\n",
            "Epoch 5/100\n",
            "210/210 [==============================] - 1s 5ms/step - loss: 573571935770.6919 - val_loss: 565724119040.0000\n",
            "Epoch 6/100\n",
            "210/210 [==============================] - 1s 5ms/step - loss: 577524055986.3507 - val_loss: 566857105408.0000\n",
            "Epoch 7/100\n",
            "210/210 [==============================] - 1s 5ms/step - loss: 582898127876.8530 - val_loss: 557247823872.0000\n",
            "Epoch 8/100\n",
            "210/210 [==============================] - 1s 5ms/step - loss: 567030166105.7820 - val_loss: 565219885056.0000\n",
            "Epoch 9/100\n",
            "210/210 [==============================] - 1s 5ms/step - loss: 566267559237.1564 - val_loss: 564024705024.0000\n",
            "Epoch 10/100\n",
            "210/210 [==============================] - 1s 5ms/step - loss: 560435140054.7488 - val_loss: 573087350784.0000\n",
            "Epoch 11/100\n",
            "210/210 [==============================] - 1s 5ms/step - loss: 576250177002.1611 - val_loss: 576039157760.0000\n",
            "Epoch 12/100\n",
            "210/210 [==============================] - 1s 5ms/step - loss: 572571958286.5592 - val_loss: 556055330816.0000\n",
            "Epoch 13/100\n",
            "210/210 [==============================] - 1s 5ms/step - loss: 578410454923.5261 - val_loss: 564109901824.0000\n",
            "Epoch 14/100\n",
            "210/210 [==============================] - 1s 5ms/step - loss: 573491040430.7109 - val_loss: 556229722112.0000\n",
            "Epoch 15/100\n",
            "210/210 [==============================] - 1s 5ms/step - loss: 564064892102.9763 - val_loss: 566342975488.0000\n",
            "Epoch 16/100\n",
            "210/210 [==============================] - 1s 5ms/step - loss: 568621728365.1943 - val_loss: 556195053568.0000\n",
            "Epoch 17/100\n",
            "210/210 [==============================] - 1s 5ms/step - loss: 568616314501.4597 - val_loss: 556600262656.0000\n",
            "Epoch 18/100\n",
            "210/210 [==============================] - 1s 5ms/step - loss: 568047985843.5640 - val_loss: 568586338304.0000\n",
            "Epoch 19/100\n",
            "210/210 [==============================] - 1s 5ms/step - loss: 573204320586.0095 - val_loss: 557272662016.0000\n",
            "Epoch 20/100\n",
            "210/210 [==============================] - 1s 5ms/step - loss: 570698588121.1754 - val_loss: 556175720448.0000\n",
            "Epoch 21/100\n",
            "210/210 [==============================] - 1s 5ms/step - loss: 561913324878.8625 - val_loss: 551366295552.0000\n",
            "Epoch 22/100\n",
            "210/210 [==============================] - 1s 5ms/step - loss: 569173097952.4550 - val_loss: 549884526592.0000\n",
            "Epoch 23/100\n",
            "210/210 [==============================] - 1s 5ms/step - loss: 560055746094.1042 - val_loss: 555274534912.0000\n",
            "Epoch 24/100\n",
            "210/210 [==============================] - 1s 5ms/step - loss: 569579401274.2369 - val_loss: 546215460864.0000\n",
            "Epoch 25/100\n",
            "210/210 [==============================] - 1s 5ms/step - loss: 554887323065.6304 - val_loss: 537697419264.0000\n",
            "Epoch 26/100\n",
            "210/210 [==============================] - 1s 5ms/step - loss: 556311090646.7488 - val_loss: 537747324928.0000\n",
            "Epoch 27/100\n",
            "210/210 [==============================] - 1s 5ms/step - loss: 545641692096.9100 - val_loss: 544185319424.0000\n",
            "Epoch 28/100\n",
            "210/210 [==============================] - 1s 5ms/step - loss: 555248678941.1185 - val_loss: 537696501760.0000\n",
            "Epoch 29/100\n",
            "210/210 [==============================] - 1s 5ms/step - loss: 551601589670.2180 - val_loss: 533968715776.0000\n",
            "Epoch 30/100\n",
            "210/210 [==============================] - 1s 5ms/step - loss: 548343891395.3365 - val_loss: 531976650752.0000\n",
            "Epoch 31/100\n",
            "210/210 [==============================] - 1s 5ms/step - loss: 554282669293.8009 - val_loss: 549557567488.0000\n",
            "Epoch 32/100\n",
            "210/210 [==============================] - 1s 5ms/step - loss: 548059683815.7346 - val_loss: 531701825536.0000\n",
            "Epoch 33/100\n",
            "210/210 [==============================] - 1s 5ms/step - loss: 554662028933.4597 - val_loss: 556944261120.0000\n",
            "Epoch 34/100\n",
            "210/210 [==============================] - 1s 5ms/step - loss: 543262979581.5735 - val_loss: 531571736576.0000\n",
            "Epoch 35/100\n",
            "210/210 [==============================] - 1s 5ms/step - loss: 539907183387.9052 - val_loss: 531870253056.0000\n",
            "Epoch 36/100\n",
            "210/210 [==============================] - 1s 5ms/step - loss: 537637908227.6398 - val_loss: 543856754688.0000\n",
            "Epoch 37/100\n",
            "210/210 [==============================] - 1s 5ms/step - loss: 544911808502.2938 - val_loss: 526029651968.0000\n",
            "Epoch 38/100\n",
            "210/210 [==============================] - 1s 6ms/step - loss: 542980485721.7820 - val_loss: 529150869504.0000\n",
            "Epoch 39/100\n",
            "210/210 [==============================] - 1s 6ms/step - loss: 541165524283.4503 - val_loss: 528744611840.0000\n",
            "Epoch 40/100\n",
            "210/210 [==============================] - 1s 5ms/step - loss: 550156425672.1896 - val_loss: 525813579776.0000\n",
            "Epoch 41/100\n",
            "210/210 [==============================] - 1s 6ms/step - loss: 540502348106.0095 - val_loss: 533192376320.0000\n",
            "Epoch 42/100\n",
            "210/210 [==============================] - 1s 6ms/step - loss: 546037391165.8768 - val_loss: 525912211456.0000\n",
            "Epoch 43/100\n",
            "210/210 [==============================] - 1s 6ms/step - loss: 528225088555.6777 - val_loss: 528444358656.0000\n",
            "Epoch 44/100\n",
            "210/210 [==============================] - 1s 5ms/step - loss: 539920418709.2322 - val_loss: 532799979520.0000\n",
            "Epoch 45/100\n",
            "210/210 [==============================] - 1s 5ms/step - loss: 540559003201.5166 - val_loss: 527731556352.0000\n",
            "Epoch 46/100\n",
            "210/210 [==============================] - 1s 6ms/step - loss: 532953554594.5782 - val_loss: 520532393984.0000\n",
            "Epoch 47/100\n",
            "210/210 [==============================] - 1s 6ms/step - loss: 528064608440.4171 - val_loss: 519477755904.0000\n",
            "Epoch 48/100\n",
            "210/210 [==============================] - 1s 6ms/step - loss: 538330240315.4503 - val_loss: 520072396800.0000\n",
            "Epoch 49/100\n",
            "210/210 [==============================] - 1s 5ms/step - loss: 532120607719.7346 - val_loss: 525604519936.0000\n",
            "Epoch 50/100\n",
            "210/210 [==============================] - 1s 5ms/step - loss: 527307141954.7299 - val_loss: 519280459776.0000\n",
            "Epoch 51/100\n",
            "210/210 [==============================] - 1s 5ms/step - loss: 524716104912.6824 - val_loss: 524159516672.0000\n",
            "Epoch 52/100\n",
            "210/210 [==============================] - 1s 6ms/step - loss: 526281591609.0237 - val_loss: 520786247680.0000\n",
            "Epoch 53/100\n",
            "210/210 [==============================] - 1s 6ms/step - loss: 531431599176.7962 - val_loss: 519427031040.0000\n",
            "Epoch 54/100\n",
            "210/210 [==============================] - 1s 5ms/step - loss: 529076708997.4597 - val_loss: 514304147456.0000\n",
            "Epoch 55/100\n",
            "210/210 [==============================] - 1s 5ms/step - loss: 528802520039.7346 - val_loss: 515099197440.0000\n",
            "Epoch 56/100\n",
            "210/210 [==============================] - 1s 5ms/step - loss: 525295228064.1517 - val_loss: 513740537856.0000\n",
            "Epoch 57/100\n",
            "210/210 [==============================] - 1s 5ms/step - loss: 538204771177.5545 - val_loss: 513197015040.0000\n",
            "Epoch 58/100\n",
            "210/210 [==============================] - 1s 5ms/step - loss: 520011830975.6967 - val_loss: 507569733632.0000\n",
            "Epoch 59/100\n",
            "210/210 [==============================] - 1s 5ms/step - loss: 520758761539.9431 - val_loss: 510768218112.0000\n",
            "Epoch 60/100\n",
            "210/210 [==============================] - 1s 5ms/step - loss: 514709238672.3792 - val_loss: 507113832448.0000\n",
            "Epoch 61/100\n",
            "210/210 [==============================] - 1s 5ms/step - loss: 517277017578.1611 - val_loss: 507485716480.0000\n",
            "Epoch 62/100\n",
            "210/210 [==============================] - 1s 5ms/step - loss: 519166309730.2749 - val_loss: 521647423488.0000\n",
            "Epoch 63/100\n",
            "210/210 [==============================] - 1s 5ms/step - loss: 526831974584.4171 - val_loss: 511564218368.0000\n",
            "Epoch 64/100\n",
            "210/210 [==============================] - 1s 5ms/step - loss: 520313561825.6683 - val_loss: 508852207616.0000\n",
            "Epoch 65/100\n",
            "210/210 [==============================] - 1s 5ms/step - loss: 516112224508.3602 - val_loss: 509049602048.0000\n",
            "Epoch 66/100\n",
            "210/210 [==============================] - 1s 5ms/step - loss: 494025907486.3317 - val_loss: 489396174848.0000\n",
            "Epoch 67/100\n",
            "210/210 [==============================] - 1s 5ms/step - loss: 502642529051.9052 - val_loss: 488752250880.0000\n",
            "Epoch 68/100\n",
            "210/210 [==============================] - 1s 5ms/step - loss: 503606624488.9479 - val_loss: 488916418560.0000\n",
            "Epoch 69/100\n",
            "210/210 [==============================] - 1s 5ms/step - loss: 507402286046.0284 - val_loss: 488745566208.0000\n",
            "Epoch 70/100\n",
            "210/210 [==============================] - 1s 5ms/step - loss: 500279041232.6824 - val_loss: 494072037376.0000\n",
            "Epoch 71/100\n",
            "210/210 [==============================] - 1s 5ms/step - loss: 505245935004.5118 - val_loss: 491143626752.0000\n",
            "Epoch 72/100\n",
            "210/210 [==============================] - 1s 5ms/step - loss: 515357188134.8246 - val_loss: 484619419648.0000\n",
            "Epoch 73/100\n",
            "210/210 [==============================] - 1s 5ms/step - loss: 497550336970.6161 - val_loss: 482697183232.0000\n",
            "Epoch 74/100\n",
            "210/210 [==============================] - 1s 5ms/step - loss: 493961259173.0048 - val_loss: 482671394816.0000\n",
            "Epoch 75/100\n",
            "210/210 [==============================] - 1s 5ms/step - loss: 490755781598.0284 - val_loss: 499005456384.0000\n",
            "Epoch 76/100\n",
            "210/210 [==============================] - 1s 5ms/step - loss: 486744024088.2654 - val_loss: 483323248640.0000\n",
            "Epoch 77/100\n",
            "210/210 [==============================] - 1s 5ms/step - loss: 494550060531.8673 - val_loss: 482977939456.0000\n",
            "Epoch 78/100\n",
            "210/210 [==============================] - 1s 5ms/step - loss: 497462854952.0379 - val_loss: 482665725952.0000\n",
            "Epoch 79/100\n",
            "210/210 [==============================] - 1s 5ms/step - loss: 499075224736.1517 - val_loss: 476655583232.0000\n",
            "Epoch 80/100\n",
            "210/210 [==============================] - 1s 5ms/step - loss: 487793415561.0995 - val_loss: 482570731520.0000\n",
            "Epoch 81/100\n",
            "210/210 [==============================] - 1s 5ms/step - loss: 494813702076.0569 - val_loss: 477233217536.0000\n",
            "Epoch 82/100\n",
            "210/210 [==============================] - 1s 5ms/step - loss: 490575341267.1090 - val_loss: 478460051456.0000\n",
            "Epoch 83/100\n",
            "210/210 [==============================] - 1s 5ms/step - loss: 486286685305.3270 - val_loss: 479761170432.0000\n",
            "Epoch 84/100\n",
            "210/210 [==============================] - 1s 5ms/step - loss: 493129671937.2133 - val_loss: 476899213312.0000\n",
            "Epoch 85/100\n",
            "210/210 [==============================] - 1s 5ms/step - loss: 487728299954.3507 - val_loss: 479014912000.0000\n",
            "Epoch 86/100\n",
            "210/210 [==============================] - 1s 5ms/step - loss: 495922002803.2607 - val_loss: 476596895744.0000\n",
            "Epoch 87/100\n",
            "210/210 [==============================] - 1s 5ms/step - loss: 487774511220.4739 - val_loss: 476751888384.0000\n",
            "Epoch 88/100\n",
            "210/210 [==============================] - 1s 5ms/step - loss: 484659225779.5640 - val_loss: 478407655424.0000\n",
            "Epoch 89/100\n",
            "210/210 [==============================] - 1s 5ms/step - loss: 485970155122.0474 - val_loss: 477146841088.0000\n",
            "Epoch 90/100\n",
            "210/210 [==============================] - 1s 5ms/step - loss: 485058399343.6208 - val_loss: 477153034240.0000\n",
            "Epoch 91/100\n",
            "210/210 [==============================] - 1s 5ms/step - loss: 486664346599.7346 - val_loss: 476887416832.0000\n",
            "Epoch 92/100\n",
            "210/210 [==============================] - 1s 5ms/step - loss: 487685041380.0948 - val_loss: 477517283328.0000\n",
            "Epoch 93/100\n",
            "210/210 [==============================] - 1s 6ms/step - loss: 482520257307.9052 - val_loss: 470541828096.0000\n",
            "Epoch 94/100\n",
            "210/210 [==============================] - 1s 5ms/step - loss: 478269692360.1896 - val_loss: 471313776640.0000\n",
            "Epoch 95/100\n",
            "210/210 [==============================] - 1s 5ms/step - loss: 484714091835.4503 - val_loss: 470645112832.0000\n",
            "Epoch 96/100\n",
            "210/210 [==============================] - 1s 6ms/step - loss: 487554156514.8815 - val_loss: 471432265728.0000\n",
            "Epoch 97/100\n",
            "210/210 [==============================] - 1s 5ms/step - loss: 480748250679.8104 - val_loss: 470446440448.0000\n",
            "Epoch 98/100\n",
            "210/210 [==============================] - 1s 5ms/step - loss: 488635469299.8673 - val_loss: 470459547648.0000\n",
            "Epoch 99/100\n",
            "210/210 [==============================] - 1s 5ms/step - loss: 487809921315.1848 - val_loss: 464494428160.0000\n",
            "Epoch 100/100\n",
            "210/210 [==============================] - 1s 5ms/step - loss: 484201036736.9100 - val_loss: 468041302016.0000\n"
          ],
          "name": "stdout"
        },
        {
          "output_type": "execute_result",
          "data": {
            "text/plain": [
              "<tensorflow.python.keras.callbacks.History at 0x7f5d5b5f6400>"
            ]
          },
          "metadata": {
            "tags": []
          },
          "execution_count": 6
        }
      ]
    },
    {
      "cell_type": "code",
      "metadata": {
        "id": "PeM4We2CJ500"
      },
      "source": [
        "predictions = model.predict(X_test)"
      ],
      "execution_count": 7,
      "outputs": []
    },
    {
      "cell_type": "code",
      "metadata": {
        "colab": {
          "base_uri": "https://localhost:8080/",
          "height": 572
        },
        "id": "L1tPIGanKBlB",
        "outputId": "2ea93779-824a-43a9-80aa-6195350f9d56"
      },
      "source": [
        "plt.scatter(y_test,predictions)"
      ],
      "execution_count": 10,
      "outputs": [
        {
          "output_type": "error",
          "ename": "ValueError",
          "evalue": "ignored",
          "traceback": [
            "\u001b[0;31m---------------------------------------------------------------------------\u001b[0m",
            "\u001b[0;31mValueError\u001b[0m                                Traceback (most recent call last)",
            "\u001b[0;32m<ipython-input-10-477f30ae0748>\u001b[0m in \u001b[0;36m<module>\u001b[0;34m()\u001b[0m\n\u001b[0;32m----> 1\u001b[0;31m \u001b[0mplt\u001b[0m\u001b[0;34m.\u001b[0m\u001b[0mscatter\u001b[0m\u001b[0;34m(\u001b[0m\u001b[0my_test\u001b[0m\u001b[0;34m,\u001b[0m\u001b[0mpredictions\u001b[0m\u001b[0;34m)\u001b[0m\u001b[0;34m\u001b[0m\u001b[0;34m\u001b[0m\u001b[0m\n\u001b[0m",
            "\u001b[0;32m/usr/local/lib/python3.6/dist-packages/matplotlib/pyplot.py\u001b[0m in \u001b[0;36mscatter\u001b[0;34m(x, y, s, c, marker, cmap, norm, vmin, vmax, alpha, linewidths, verts, edgecolors, plotnonfinite, data, **kwargs)\u001b[0m\n\u001b[1;32m   2814\u001b[0m         \u001b[0mverts\u001b[0m\u001b[0;34m=\u001b[0m\u001b[0mverts\u001b[0m\u001b[0;34m,\u001b[0m \u001b[0medgecolors\u001b[0m\u001b[0;34m=\u001b[0m\u001b[0medgecolors\u001b[0m\u001b[0;34m,\u001b[0m\u001b[0;34m\u001b[0m\u001b[0;34m\u001b[0m\u001b[0m\n\u001b[1;32m   2815\u001b[0m         plotnonfinite=plotnonfinite, **({\"data\": data} if data is not\n\u001b[0;32m-> 2816\u001b[0;31m         None else {}), **kwargs)\n\u001b[0m\u001b[1;32m   2817\u001b[0m     \u001b[0msci\u001b[0m\u001b[0;34m(\u001b[0m\u001b[0m__ret\u001b[0m\u001b[0;34m)\u001b[0m\u001b[0;34m\u001b[0m\u001b[0;34m\u001b[0m\u001b[0m\n\u001b[1;32m   2818\u001b[0m     \u001b[0;32mreturn\u001b[0m \u001b[0m__ret\u001b[0m\u001b[0;34m\u001b[0m\u001b[0;34m\u001b[0m\u001b[0m\n",
            "\u001b[0;32m/usr/local/lib/python3.6/dist-packages/matplotlib/__init__.py\u001b[0m in \u001b[0;36minner\u001b[0;34m(ax, data, *args, **kwargs)\u001b[0m\n\u001b[1;32m   1563\u001b[0m     \u001b[0;32mdef\u001b[0m \u001b[0minner\u001b[0m\u001b[0;34m(\u001b[0m\u001b[0max\u001b[0m\u001b[0;34m,\u001b[0m \u001b[0;34m*\u001b[0m\u001b[0margs\u001b[0m\u001b[0;34m,\u001b[0m \u001b[0mdata\u001b[0m\u001b[0;34m=\u001b[0m\u001b[0;32mNone\u001b[0m\u001b[0;34m,\u001b[0m \u001b[0;34m**\u001b[0m\u001b[0mkwargs\u001b[0m\u001b[0;34m)\u001b[0m\u001b[0;34m:\u001b[0m\u001b[0;34m\u001b[0m\u001b[0;34m\u001b[0m\u001b[0m\n\u001b[1;32m   1564\u001b[0m         \u001b[0;32mif\u001b[0m \u001b[0mdata\u001b[0m \u001b[0;32mis\u001b[0m \u001b[0;32mNone\u001b[0m\u001b[0;34m:\u001b[0m\u001b[0;34m\u001b[0m\u001b[0;34m\u001b[0m\u001b[0m\n\u001b[0;32m-> 1565\u001b[0;31m             \u001b[0;32mreturn\u001b[0m \u001b[0mfunc\u001b[0m\u001b[0;34m(\u001b[0m\u001b[0max\u001b[0m\u001b[0;34m,\u001b[0m \u001b[0;34m*\u001b[0m\u001b[0mmap\u001b[0m\u001b[0;34m(\u001b[0m\u001b[0msanitize_sequence\u001b[0m\u001b[0;34m,\u001b[0m \u001b[0margs\u001b[0m\u001b[0;34m)\u001b[0m\u001b[0;34m,\u001b[0m \u001b[0;34m**\u001b[0m\u001b[0mkwargs\u001b[0m\u001b[0;34m)\u001b[0m\u001b[0;34m\u001b[0m\u001b[0;34m\u001b[0m\u001b[0m\n\u001b[0m\u001b[1;32m   1566\u001b[0m \u001b[0;34m\u001b[0m\u001b[0m\n\u001b[1;32m   1567\u001b[0m         \u001b[0mbound\u001b[0m \u001b[0;34m=\u001b[0m \u001b[0mnew_sig\u001b[0m\u001b[0;34m.\u001b[0m\u001b[0mbind\u001b[0m\u001b[0;34m(\u001b[0m\u001b[0max\u001b[0m\u001b[0;34m,\u001b[0m \u001b[0;34m*\u001b[0m\u001b[0margs\u001b[0m\u001b[0;34m,\u001b[0m \u001b[0;34m**\u001b[0m\u001b[0mkwargs\u001b[0m\u001b[0;34m)\u001b[0m\u001b[0;34m\u001b[0m\u001b[0;34m\u001b[0m\u001b[0m\n",
            "\u001b[0;32m/usr/local/lib/python3.6/dist-packages/matplotlib/cbook/deprecation.py\u001b[0m in \u001b[0;36mwrapper\u001b[0;34m(*args, **kwargs)\u001b[0m\n\u001b[1;32m    356\u001b[0m                 \u001b[0;34mf\"%(removal)s.  If any parameter follows {name!r}, they \"\u001b[0m\u001b[0;34m\u001b[0m\u001b[0;34m\u001b[0m\u001b[0m\n\u001b[1;32m    357\u001b[0m                 f\"should be pass as keyword, not positionally.\")\n\u001b[0;32m--> 358\u001b[0;31m         \u001b[0;32mreturn\u001b[0m \u001b[0mfunc\u001b[0m\u001b[0;34m(\u001b[0m\u001b[0;34m*\u001b[0m\u001b[0margs\u001b[0m\u001b[0;34m,\u001b[0m \u001b[0;34m**\u001b[0m\u001b[0mkwargs\u001b[0m\u001b[0;34m)\u001b[0m\u001b[0;34m\u001b[0m\u001b[0;34m\u001b[0m\u001b[0m\n\u001b[0m\u001b[1;32m    359\u001b[0m \u001b[0;34m\u001b[0m\u001b[0m\n\u001b[1;32m    360\u001b[0m     \u001b[0;32mreturn\u001b[0m \u001b[0mwrapper\u001b[0m\u001b[0;34m\u001b[0m\u001b[0;34m\u001b[0m\u001b[0m\n",
            "\u001b[0;32m/usr/local/lib/python3.6/dist-packages/matplotlib/axes/_axes.py\u001b[0m in \u001b[0;36mscatter\u001b[0;34m(self, x, y, s, c, marker, cmap, norm, vmin, vmax, alpha, linewidths, verts, edgecolors, plotnonfinite, **kwargs)\u001b[0m\n\u001b[1;32m   4389\u001b[0m         \u001b[0my\u001b[0m \u001b[0;34m=\u001b[0m \u001b[0mnp\u001b[0m\u001b[0;34m.\u001b[0m\u001b[0mma\u001b[0m\u001b[0;34m.\u001b[0m\u001b[0mravel\u001b[0m\u001b[0;34m(\u001b[0m\u001b[0my\u001b[0m\u001b[0;34m)\u001b[0m\u001b[0;34m\u001b[0m\u001b[0;34m\u001b[0m\u001b[0m\n\u001b[1;32m   4390\u001b[0m         \u001b[0;32mif\u001b[0m \u001b[0mx\u001b[0m\u001b[0;34m.\u001b[0m\u001b[0msize\u001b[0m \u001b[0;34m!=\u001b[0m \u001b[0my\u001b[0m\u001b[0;34m.\u001b[0m\u001b[0msize\u001b[0m\u001b[0;34m:\u001b[0m\u001b[0;34m\u001b[0m\u001b[0;34m\u001b[0m\u001b[0m\n\u001b[0;32m-> 4391\u001b[0;31m             \u001b[0;32mraise\u001b[0m \u001b[0mValueError\u001b[0m\u001b[0;34m(\u001b[0m\u001b[0;34m\"x and y must be the same size\"\u001b[0m\u001b[0;34m)\u001b[0m\u001b[0;34m\u001b[0m\u001b[0;34m\u001b[0m\u001b[0m\n\u001b[0m\u001b[1;32m   4392\u001b[0m \u001b[0;34m\u001b[0m\u001b[0m\n\u001b[1;32m   4393\u001b[0m         \u001b[0;32mif\u001b[0m \u001b[0ms\u001b[0m \u001b[0;32mis\u001b[0m \u001b[0;32mNone\u001b[0m\u001b[0;34m:\u001b[0m\u001b[0;34m\u001b[0m\u001b[0;34m\u001b[0m\u001b[0m\n",
            "\u001b[0;31mValueError\u001b[0m: x and y must be the same size"
          ]
        },
        {
          "output_type": "display_data",
          "data": {
            "image/png": "[encoded data removed]",
            "text/plain": [
              "<Figure size 432x288 with 1 Axes>"
            ]
          },
          "metadata": {
            "tags": [],
            "needs_background": "light"
          }
        }
      ]
    }
  ]
}