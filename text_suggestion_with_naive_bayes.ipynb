{
  "nbformat": 4,
  "nbformat_minor": 0,
  "metadata": {
    "colab": {
      "name": "text_suggestion_with_naive_bayes.ipynb",
      "provenance": [],
      "collapsed_sections": []
    },
    "kernelspec": {
      "name": "python3",
      "display_name": "Python 3"
    }
  },
  "cells": [
    {
      "cell_type": "code",
      "metadata": {
        "id": "IBR5re2IoXdj"
      },
      "source": [
        "import nltk\r\n",
        "from nltk import trigrams\r\n",
        "from nltk.corpus import brown\r\n",
        "from collections import defaultdict"
      ],
      "execution_count": 1,
      "outputs": []
    },
    {
      "cell_type": "code",
      "metadata": {
        "colab": {
          "base_uri": "https://localhost:8080/"
        },
        "id": "Nw0XK-hUqBw_",
        "outputId": "3f715f56-f089-4f06-a55e-d31b51749915"
      },
      "source": [
        "nltk.download('brown')"
      ],
      "execution_count": 2,
      "outputs": [
        {
          "output_type": "stream",
          "text": [
            "[nltk_data] Downloading package brown to /root/nltk_data...\n",
            "[nltk_data]   Package brown is already up-to-date!\n"
          ],
          "name": "stdout"
        },
        {
          "output_type": "execute_result",
          "data": {
            "text/plain": [
              "True"
            ]
          },
          "metadata": {
            "tags": []
          },
          "execution_count": 2
        }
      ]
    },
    {
      "cell_type": "code",
      "metadata": {
        "id": "w4jFJafwqBy2"
      },
      "source": [
        "uniModel = defaultdict(lambda: 0)\r\n",
        "biModel = defaultdict(lambda: defaultdict(lambda: 0))\r\n",
        "triModel = defaultdict(lambda: defaultdict(lambda: 0))\r\n",
        "model1 = defaultdict(lambda: set())\r\n",
        "model2 = defaultdict(lambda: set())"
      ],
      "execution_count": 3,
      "outputs": []
    },
    {
      "cell_type": "code",
      "metadata": {
        "id": "UbIMtBZ4qB2D"
      },
      "source": [
        "def convert_to_lower(c):\r\n",
        "  if type(c)==str:\r\n",
        "    return c.lower()\r\n",
        "  return c"
      ],
      "execution_count": 4,
      "outputs": []
    },
    {
      "cell_type": "code",
      "metadata": {
        "id": "lBDJWabIqs8x"
      },
      "source": [
        "totalWord = 0\r\n",
        "for sentence in brown.sents():\r\n",
        "  for word in sentence:\r\n",
        "    uniModel[word] += 1\r\n",
        "    totalWord +=1\r\n",
        "\r\n",
        "  for firstWord, secondWord, thirdWord in trigrams(sentence, pad_right=True, pad_left=True):\r\n",
        "    firstWord = convert_to_lower(firstWord)\r\n",
        "    secondWord = convert_to_lower(secondWord)\r\n",
        "    thirdWord = convert_to_lower(thirdWord)\r\n",
        "\r\n",
        "    biModel[thirdWord][secondWord] += 1\r\n",
        "    triModel[thirdWord][firstWord] += 1\r\n",
        "\r\n",
        "    model1[secondWord].add(thirdWord)\r\n",
        "    model2[firstWord].add(thirdWord)"
      ],
      "execution_count": 5,
      "outputs": []
    },
    {
      "cell_type": "code",
      "metadata": {
        "id": "Lm7Pb3QBq3jU"
      },
      "source": [
        "def calculate_probablities(model):\r\n",
        "  for nextWord in model:\r\n",
        "    totalCount = float(sum(model[nextWord].values()))\r\n",
        "    for prevWord in model[nextWord]:\r\n",
        "        model[nextWord][prevWord] /= totalCount\r\n",
        "\r\n",
        "calculate_probablities(biModel)\r\n",
        "calculate_probablities(triModel)\r\n",
        "\r\n",
        "for word in uniModel:\r\n",
        "  uniModel[word] /= totalWord"
      ],
      "execution_count": 6,
      "outputs": []
    },
    {
      "cell_type": "code",
      "metadata": {
        "id": "bMw3WzUhrXmW"
      },
      "source": [
        "def calculate_trigram_Probability(firstWord, secondWord, thirdWord):\r\n",
        "  return uniModel[thirdWord]*biModel[thirdWord][secondWord]*triModel[thirdWord][firstWord]"
      ],
      "execution_count": 7,
      "outputs": []
    },
    {
      "cell_type": "code",
      "metadata": {
        "id": "mE6AFIUxrEdT"
      },
      "source": [
        "def predict_word(firstWord,secondWord):\r\n",
        "  response = []\r\n",
        "  for thirdWord in model1[secondWord] & model2[firstWord]:\r\n",
        "    res = calculate_trigram_Probability(firstWord,secondWord,thirdWord)\r\n",
        "    response.append((thirdWord,res))\r\n",
        "  return response"
      ],
      "execution_count": 8,
      "outputs": []
    },
    {
      "cell_type": "code",
      "metadata": {
        "colab": {
          "base_uri": "https://localhost:8080/"
        },
        "id": "U0gMnhJ8rMXX",
        "outputId": "94511fdd-b5b0-4c7d-fb9b-2948f8a1aa95"
      },
      "source": [
        "while(True):\r\n",
        "    text = input(\"Enter a line (In lower charecter): \")\r\n",
        "    if text == \"quit\":\r\n",
        "        print(\"#############################################\")\r\n",
        "        print(\"######           Terminated          ########\")\r\n",
        "        print(\"#############################################\")\r\n",
        "        break\r\n",
        "    \r\n",
        "    else:\r\n",
        "        try:\r\n",
        "            text = text.split(\" \")\r\n",
        "            data = predict_word(text[-2], text[-1])\r\n",
        "            sorted(data, key=lambda o: o[1], reverse=True)\r\n",
        "            print(\"################## SUGGESTIONS ##################\")\r\n",
        "            print(data[:10])\r\n",
        "            print()\r\n",
        "            print()\r\n",
        "            \r\n",
        "        except:\r\n",
        "            continue"
      ],
      "execution_count": 9,
      "outputs": [
        {
          "output_type": "stream",
          "text": [
            "Enter a line (In lower charecter): i love my\n",
            "################## SUGGESTIONS ##################\n",
            "[('memory', 4.472908715504856e-08), ('comrades', 8.611840246918684e-08), ('life', 2.3913870437724607e-08), ('god', 5.8644962424938966e-09), ('country', 2.5595318520791697e-08), (',', 7.086233274798519e-10), ('visit', 1.5801541737465474e-08), ('only', 1.3917594982459344e-09), ('!', 1.0791779758043463e-09), ('woman', 3.7244286782153897e-09)]\n",
            "\n",
            "\n",
            "Enter a line (In lower charecter): how to\n",
            "################## SUGGESTIONS ##################\n",
            "[('mother', 3.5255090174071254e-09), ('speak', 4.1123316484872855e-07), ('take', 5.581981461417172e-07), ('your', 7.194922832943639e-08), ('merely', 6.284635132182085e-09), ('death', 8.592872177456951e-08), ('other', 1.4994296698493845e-08), ('american', 0.0), ('work', 2.21716576510198e-07), ('with', 3.409755405741027e-10)]\n",
            "\n",
            "\n",
            "Enter a line (In lower charecter): i am having\n",
            "################## SUGGESTIONS ##################\n",
            "[('and', 5.775394317851232e-11), ('light', 2.485177861658035e-09), (',', 2.214447898374537e-10), ('in', 7.390858586011138e-11), ('the', 8.383608171702756e-10), ('to', 4.922707423802261e-09), ('as', 1.097802357442411e-10), ('some', 1.3885268511325678e-09), ('a', 7.845531955251672e-09)]\n",
            "\n",
            "\n",
            "Enter a line (In lower charecter): we have\n",
            "################## SUGGESTIONS ##################\n",
            "[('designed', 1.5652521710791844e-08), ('lots', 1.9039782858833824e-08), ('.', 1.1169249296858827e-08), ('your', 7.89686652396253e-09), ('been', 2.4888689353233142e-06), ('applied', 4.062188795716361e-08), ('described', 2.870613415639561e-08), ('merely', 1.8853905396546254e-08), ('recently', 1.8613733629072707e-08), ('tried', 2.532894190270201e-08)]\n",
            "\n",
            "\n",
            "Enter a line (In lower charecter): quit\n",
            "#############################################\n",
            "######           Terminated          ########\n",
            "#############################################\n"
          ],
          "name": "stdout"
        }
      ]
    }
  ]
}